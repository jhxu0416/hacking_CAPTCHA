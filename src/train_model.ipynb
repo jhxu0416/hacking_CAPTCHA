{
 "cells": [
  {
   "cell_type": "code",
   "execution_count": 1,
   "metadata": {},
   "outputs": [
    {
     "name": "stderr",
     "output_type": "stream",
     "text": [
      "Using TensorFlow backend.\n"
     ]
    }
   ],
   "source": [
    "import cv2\n",
    "import os\n",
    "import pickle\n",
    "import numpy as np\n",
    "from matplotlib import pyplot as plt\n",
    "from sklearn.preprocessing import LabelBinarizer\n",
    "from sklearn.model_selection import train_test_split\n",
    "from sklearn.preprocessing import LabelBinarizer\n",
    "from keras.preprocessing.image import img_to_array\n",
    "from keras.models import Sequential\n",
    "from keras.layers.convolutional import Conv2D, MaxPooling2D\n",
    "from keras.layers.core import Flatten, Dense\n",
    "from keras.preprocessing.image import ImageDataGenerator\n",
    "from keras.utils import plot_model"
   ]
  },
  {
   "cell_type": "code",
   "execution_count": 2,
   "metadata": {},
   "outputs": [],
   "source": [
    "img_input_dir = os.path.dirname(os.getcwd()) + \"/training_data\"\n",
    "data, labels = [], []\n",
    "with os.scandir(img_input_dir) as it:\n",
    "    for f in it:\n",
    "        if f.name.endswith(\".png\"):\n",
    "            p = img_input_dir+'/'+f.name\n",
    "            # read image as grey scale\n",
    "            img = cv2.imread(p, 0)\n",
    "            # resize image into 20*20\n",
    "            img = cv2.resize(img, (20, 20))\n",
    "            data.append(img_to_array(img))\n",
    "            label = f.name.split(\"_\")[0]\n",
    "            labels.append(label)\n"
   ]
  },
  {
   "cell_type": "code",
   "execution_count": 3,
   "metadata": {},
   "outputs": [],
   "source": [
    "# scale the raw pixel intensities to the range [0, 1]\n",
    "data = np.array(data, dtype=\"float\") / 255.0\n",
    "lb = LabelBinarizer().fit(labels)\n",
    "# save label encoding\n",
    "with open(\"captcha_label.dat\", \"wb\") as f:\n",
    "    pickle.dump(lb, f)\n",
    "\n",
    "labels = lb.transform(labels)\n",
    "# train test split\n",
    "(X_train, X_test, Y_train, Y_test) = train_test_split(data, labels, test_size=0.25, random_state=0)"
   ]
  },
  {
   "cell_type": "code",
   "execution_count": 4,
   "metadata": {
    "collapsed": true
   },
   "outputs": [],
   "source": [
    "# build model\n",
    "def build_model():\n",
    "    model = Sequential()\n",
    "\n",
    "    # First convolutional layer with max pooling\n",
    "    model.add(Conv2D(20, (5, 5), padding=\"same\", input_shape=(20, 20, 1), activation=\"relu\"))\n",
    "    model.add(MaxPooling2D(pool_size=(2, 2), strides=(2, 2)))\n",
    "\n",
    "    # Second convolutional layer with max pooling\n",
    "    model.add(Conv2D(50, (5, 5), padding=\"same\", activation=\"relu\"))\n",
    "    model.add(MaxPooling2D(pool_size=(2, 2), strides=(2, 2)))\n",
    "\n",
    "    # Hidden layer with 500 nodes\n",
    "    model.add(Flatten())\n",
    "    model.add(Dense(500, activation=\"relu\"))\n",
    "\n",
    "    # Output layer with 32 nodes (one for each possible letter/number we predict)\n",
    "    model.add(Dense(32, activation=\"softmax\"))\n",
    "\n",
    "    # Ask Keras to build the TensorFlow model behind the scenes\n",
    "    model.compile(loss=\"categorical_crossentropy\", optimizer=\"adam\", metrics=[\"accuracy\"])\n",
    "    \n",
    "    return model"
   ]
  },
  {
   "cell_type": "code",
   "execution_count": 5,
   "metadata": {},
   "outputs": [
    {
     "name": "stdout",
     "output_type": "stream",
     "text": [
      "training network...\n",
      "Epoch 1/10\n",
      "915/915 [==============================] - 24s 26ms/step - loss: 0.1534 - acc: 0.9634 - val_loss: 0.0181 - val_acc: 0.9948\n",
      "Epoch 2/10\n",
      "915/915 [==============================] - 24s 27ms/step - loss: 0.0113 - acc: 0.9970 - val_loss: 0.0297 - val_acc: 0.9926\n",
      "Epoch 3/10\n",
      "915/915 [==============================] - 24s 26ms/step - loss: 0.0059 - acc: 0.9981 - val_loss: 0.0161 - val_acc: 0.9967\n",
      "Epoch 4/10\n",
      "915/915 [==============================] - 24s 26ms/step - loss: 0.0036 - acc: 0.9987 - val_loss: 0.0238 - val_acc: 0.9950\n",
      "Epoch 5/10\n",
      "915/915 [==============================] - 24s 26ms/step - loss: 0.0048 - acc: 0.9987 - val_loss: 0.0139 - val_acc: 0.9973\n",
      "Epoch 6/10\n",
      "915/915 [==============================] - 24s 26ms/step - loss: 0.0044 - acc: 0.9989 - val_loss: 0.0128 - val_acc: 0.9977\n",
      "Epoch 7/10\n",
      "915/915 [==============================] - 24s 26ms/step - loss: 0.0024 - acc: 0.9994 - val_loss: 0.0164 - val_acc: 0.9963\n",
      "Epoch 8/10\n",
      "915/915 [==============================] - 24s 26ms/step - loss: 0.0036 - acc: 0.9989 - val_loss: 0.0133 - val_acc: 0.9971\n",
      "Epoch 9/10\n",
      "915/915 [==============================] - 24s 26ms/step - loss: 0.0021 - acc: 0.9994 - val_loss: 0.0151 - val_acc: 0.9968\n",
      "Epoch 10/10\n",
      "915/915 [==============================] - 24s 26ms/step - loss: 0.0043 - acc: 0.9989 - val_loss: 0.0208 - val_acc: 0.9965\n"
     ]
    }
   ],
   "source": [
    "captcha_model = build_model()\n",
    "# image data generator\n",
    "datagen = ImageDataGenerator()\n",
    "# Train the neural network\n",
    "BS = 32\n",
    "EPOCHS = 10\n",
    "print(\"training network...\")\n",
    "H = captcha_model.fit_generator(datagen.flow(X_train, Y_train, batch_size=BS), \n",
    "                                validation_data=(X_test, Y_test), \n",
    "                                steps_per_epoch=len(X_train) // BS,\n",
    "                                epochs=EPOCHS, verbose=1)\n",
    "# Save the trained model\n",
    "captcha_model.save(\"captcha_model.hdf5\")"
   ]
  },
  {
   "cell_type": "code",
   "execution_count": 6,
   "metadata": {},
   "outputs": [
    {
     "data": {
      "image/png": "[encoded data removed]",
      "text/plain": [
       "<matplotlib.figure.Figure at 0x7fb9bda16908>"
      ]
     },
     "metadata": {},
     "output_type": "display_data"
    }
   ],
   "source": [
    "# plot the training loss and accuracy\n",
    "plt.style.use(\"ggplot\")\n",
    "plt.figure()\n",
    "N = EPOCHS\n",
    "plt.plot(np.arange(0, N), H.history[\"loss\"], label=\"train_loss\")\n",
    "plt.plot(np.arange(0, N), H.history[\"val_loss\"], label=\"val_loss\")\n",
    "plt.plot(np.arange(0, N), H.history[\"acc\"], label=\"train_acc\")\n",
    "plt.plot(np.arange(0, N), H.history[\"val_acc\"], label=\"val_acc\")\n",
    "plt.title(\"Training Loss and Accuracy\")\n",
    "plt.xlabel(\"Epoch #\")\n",
    "plt.ylabel(\"Loss/Accuracy\")\n",
    "plt.legend(loc=\"center right\")\n",
    "plt.show()"
   ]
  },
  {
   "cell_type": "code",
   "execution_count": 7,
   "metadata": {
    "collapsed": true
   },
   "outputs": [],
   "source": [
    "plot_model(captcha_model, to_file='captcha_model.png')"
   ]
  },
  {
   "cell_type": "code",
   "execution_count": null,
   "metadata": {
    "collapsed": true
   },
   "outputs": [],
   "source": []
  }
 ],
 "metadata": {
  "kernelspec": {
   "display_name": "Python 3",
   "language": "python",
   "name": "python3"
  },
  "language_info": {
   "codemirror_mode": {
    "name": "ipython",
    "version": 3
   },
   "file_extension": ".py",
   "mimetype": "text/x-python",
   "name": "python",
   "nbconvert_exporter": "python",
   "pygments_lexer": "ipython3",
   "version": "3.6.2"
  }
 },
 "nbformat": 4,
 "nbformat_minor": 2
}
